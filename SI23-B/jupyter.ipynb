{
 "cells": [
  {
   "cell_type": "code",
   "execution_count": 1,
   "metadata": {},
   "outputs": [
    {
     "name": "stdout",
     "output_type": "stream",
     "text": [
      "pengantar pemrograman\n"
     ]
    }
   ],
   "source": [
    "print('pengantar pemrograman')"
   ]
  },
  {
   "cell_type": "code",
   "execution_count": 7,
   "metadata": {},
   "outputs": [],
   "source": [
    "def tambah(a,b,c):\n",
    "    hasil = (a+b) * c\n",
    "    return hasil"
   ]
  },
  {
   "cell_type": "code",
   "execution_count": 8,
   "metadata": {},
   "outputs": [],
   "source": [
    "hitung = tambah(3,5,2)"
   ]
  },
  {
   "cell_type": "code",
   "execution_count": 9,
   "metadata": {},
   "outputs": [
    {
     "name": "stdout",
     "output_type": "stream",
     "text": [
      "16\n"
     ]
    }
   ],
   "source": [
    "print(hitung)"
   ]
  },
  {
   "cell_type": "code",
   "execution_count": 22,
   "metadata": {},
   "outputs": [],
   "source": [
    "def pangkat(x=4,n=2):\n",
    "    hasil = x**n\n",
    "    return hasil"
   ]
  },
  {
   "cell_type": "code",
   "execution_count": 29,
   "metadata": {},
   "outputs": [],
   "source": [
    "hitung = pangkat(n=3)"
   ]
  },
  {
   "cell_type": "code",
   "execution_count": 30,
   "metadata": {},
   "outputs": [
    {
     "name": "stdout",
     "output_type": "stream",
     "text": [
      "64\n"
     ]
    }
   ],
   "source": [
    "print(hitung)"
   ]
  },
  {
   "cell_type": "code",
   "execution_count": 35,
   "metadata": {},
   "outputs": [],
   "source": [
    "def situasi(kota, nilai, temp='Celcius'):\n",
    "    print(f'Suhu di Kota {kota} adalah {nilai} derajat {temp}')"
   ]
  },
  {
   "cell_type": "code",
   "execution_count": 37,
   "metadata": {},
   "outputs": [
    {
     "name": "stdout",
     "output_type": "stream",
     "text": [
      "Suhu di Kota Parepare adalah 30 derajat Reamur\n"
     ]
    }
   ],
   "source": [
    "situasi(kota='Parepare',nilai=30,temp='Reamur')"
   ]
  },
  {
   "cell_type": "code",
   "execution_count": null,
   "metadata": {},
   "outputs": [],
   "source": [
    "#ARGS"
   ]
  },
  {
   "cell_type": "code",
   "execution_count": 50,
   "metadata": {},
   "outputs": [],
   "source": [
    "def cek(data):\n",
    "    args = data\n",
    "    print(f'data pertama adalah {args[0]}')\n",
    "    print(f'data terakhir adalah {args[-1]}')"
   ]
  },
  {
   "cell_type": "code",
   "execution_count": 51,
   "metadata": {},
   "outputs": [],
   "source": [
    "mahasiswa = ('Nama Lengkap', 2023, 'Lulus', 'Jl. Balaikota')"
   ]
  },
  {
   "cell_type": "code",
   "execution_count": 52,
   "metadata": {},
   "outputs": [
    {
     "name": "stdout",
     "output_type": "stream",
     "text": [
      "data pertama adalah Nama Lengkap\n",
      "data terakhir adalah Jl. Balaikota\n"
     ]
    }
   ],
   "source": [
    "cek(mahasiswa)"
   ]
  },
  {
   "cell_type": "code",
   "execution_count": 53,
   "metadata": {},
   "outputs": [],
   "source": [
    "def argumen(*args):\n",
    "    nama = args[0]\n",
    "    usia = args[1]\n",
    "    alamat = args[2]\n",
    "    print(f'Nama saya {nama} usia {usia} tahun, tinggal di {alamat}')"
   ]
  },
  {
   "cell_type": "code",
   "execution_count": 54,
   "metadata": {},
   "outputs": [
    {
     "name": "stdout",
     "output_type": "stream",
     "text": [
      "Nama saya Thomas usia 21 tahun, tinggal di Jl. Pemuda\n"
     ]
    }
   ],
   "source": [
    "argumen('Thomas',21,'Jl. Pemuda')"
   ]
  },
  {
   "cell_type": "code",
   "execution_count": 55,
   "metadata": {},
   "outputs": [],
   "source": [
    "def jumlah(*data):\n",
    "    hitung = 0\n",
    "    for i in data:\n",
    "        hitung = hitung + i\n",
    "    return hitung"
   ]
  },
  {
   "cell_type": "code",
   "execution_count": 57,
   "metadata": {},
   "outputs": [
    {
     "name": "stdout",
     "output_type": "stream",
     "text": [
      "31\n"
     ]
    }
   ],
   "source": [
    "hasil = jumlah(1,3,5,7,8,1,2,3,1)\n",
    "print(hasil)"
   ]
  },
  {
   "cell_type": "code",
   "execution_count": 68,
   "metadata": {},
   "outputs": [],
   "source": [
    "def factorial(n=2):\n",
    "    hasil = 1\n",
    "    for i in range(1,n+1):\n",
    "        hasil = hasil * i\n",
    "    return hasil"
   ]
  },
  {
   "cell_type": "code",
   "execution_count": 70,
   "metadata": {},
   "outputs": [
    {
     "name": "stdout",
     "output_type": "stream",
     "text": [
      "Faktorial adalah 5040\n"
     ]
    }
   ],
   "source": [
    "hitung = factorial(7)\n",
    "print(f'Faktorial adalah {hitung}')"
   ]
  },
  {
   "cell_type": "code",
   "execution_count": null,
   "metadata": {},
   "outputs": [],
   "source": [
    "# KWARGS"
   ]
  },
  {
   "cell_type": "code",
   "execution_count": 71,
   "metadata": {},
   "outputs": [],
   "source": [
    "def biodata(**kwargs):\n",
    "    print(f'''\n",
    "            nama     : {kwargs['nama']}\n",
    "            NIM      : {kwargs['nim']}\n",
    "            prodi    : {kwargs['prodi']}\n",
    "            angkatan : {kwargs['angkatan']}\n",
    "            ''')"
   ]
  },
  {
   "cell_type": "code",
   "execution_count": 75,
   "metadata": {},
   "outputs": [
    {
     "name": "stdout",
     "output_type": "stream",
     "text": [
      "\n",
      "            nama     : Thomas\n",
      "            NIM      : 6002020\n",
      "            prodi    : Sistem Informasi\n",
      "            angkatan : 2023\n",
      "            \n"
     ]
    }
   ],
   "source": [
    "biodata(nama='Thomas',\n",
    "        prodi='Sistem Informasi',\n",
    "        nim='6002020',\n",
    "        angkatan='2023')"
   ]
  },
  {
   "cell_type": "code",
   "execution_count": null,
   "metadata": {},
   "outputs": [],
   "source": []
  }
 ],
 "metadata": {
  "kernelspec": {
   "display_name": "Python 3",
   "language": "python",
   "name": "python3"
  },
  "language_info": {
   "codemirror_mode": {
    "name": "ipython",
    "version": 3
   },
   "file_extension": ".py",
   "mimetype": "text/x-python",
   "name": "python",
   "nbconvert_exporter": "python",
   "pygments_lexer": "ipython3",
   "version": "3.9.6"
  }
 },
 "nbformat": 4,
 "nbformat_minor": 2
}
