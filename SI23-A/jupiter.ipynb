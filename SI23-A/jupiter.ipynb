{
 "cells": [
  {
   "cell_type": "code",
   "execution_count": 19,
   "metadata": {},
   "outputs": [],
   "source": [
    "def tambah(a,b):\n",
    "    hasil = a+b\n",
    "    return hasil\n",
    "\n",
    "def kurang(a,b):\n",
    "    hasil = a-b\n",
    "    return hasil\n",
    "\n",
    "def kali(a,b):\n",
    "    hasil = a*b\n",
    "    return hasil\n",
    "\n",
    "def bagi(a,b):\n",
    "    hasil = a/b\n",
    "    return hasil\n",
    "def modulo(a,b):\n",
    "    hasil = a%b\n",
    "    return hasil\n",
    "def floor(a,b):\n",
    "    hasil = a//b\n",
    "    return hasil\n"
   ]
  },
  {
   "cell_type": "code",
   "execution_count": null,
   "metadata": {},
   "outputs": [],
   "source": []
  },
  {
   "cell_type": "code",
   "execution_count": 20,
   "metadata": {},
   "outputs": [
    {
     "data": {
      "text/plain": [
       "12"
      ]
     },
     "execution_count": 20,
     "metadata": {},
     "output_type": "execute_result"
    }
   ],
   "source": [
    "hasil_jumlah = tambah(3,9)\n",
    "hasil_jumlah"
   ]
  },
  {
   "cell_type": "code",
   "execution_count": 21,
   "metadata": {},
   "outputs": [
    {
     "data": {
      "text/plain": [
       "-6"
      ]
     },
     "execution_count": 21,
     "metadata": {},
     "output_type": "execute_result"
    }
   ],
   "source": [
    "hasil_kurang = kurang(3,9)\n",
    "hasil_kurang"
   ]
  },
  {
   "cell_type": "code",
   "execution_count": 22,
   "metadata": {},
   "outputs": [
    {
     "data": {
      "text/plain": [
       "18.0"
      ]
     },
     "execution_count": 22,
     "metadata": {},
     "output_type": "execute_result"
    }
   ],
   "source": [
    "hasil_bagi = bagi(90,5)\n",
    "hasil_bagi"
   ]
  },
  {
   "cell_type": "code",
   "execution_count": 32,
   "metadata": {},
   "outputs": [
    {
     "name": "stdout",
     "output_type": "stream",
     "text": [
      "5050\n"
     ]
    }
   ],
   "source": [
    "# Penjumlahan Sigma\n",
    "n = 100\n",
    "sum = 0\n",
    "for i in range(0,n+1):\n",
    "    sum = tambah(sum,i)\n",
    "\n",
    "print(sum)\n"
   ]
  },
  {
   "cell_type": "code",
   "execution_count": null,
   "metadata": {},
   "outputs": [],
   "source": []
  },
  {
   "cell_type": "code",
   "execution_count": 40,
   "metadata": {},
   "outputs": [
    {
     "name": "stdout",
     "output_type": "stream",
     "text": [
      "24\n"
     ]
    }
   ],
   "source": [
    "#Faktorial\n",
    "k = 4\n",
    "hasil = 1\n",
    "for i in range(1,k+1):\n",
    "    hasil = kali(hasil,i)\n",
    "\n",
    "print(hasil)\n"
   ]
  },
  {
   "cell_type": "code",
   "execution_count": 23,
   "metadata": {},
   "outputs": [
    {
     "name": "stdout",
     "output_type": "stream",
     "text": [
      "1\n",
      "3\n",
      "5\n",
      "7\n",
      "9\n",
      "11\n",
      "13\n",
      "15\n",
      "17\n",
      "19\n"
     ]
    }
   ],
   "source": [
    "for i in range(0,10): #i=0,...,9\n",
    "    hasil_jumlah = tambah(i,i+1)\n",
    "    print(hasil_jumlah)\n",
    "\n",
    "#0,1 = 1\n",
    "#1,2 = 3\n",
    "#2,3 = 5\n",
    "\n",
    "#9,10= 19\n"
   ]
  },
  {
   "cell_type": "code",
   "execution_count": 41,
   "metadata": {},
   "outputs": [],
   "source": [
    "# Default Argumen\n",
    "def pangkat(nilai,eksponen=2):\n",
    "    hasil = nilai ** eksponen\n",
    "    return hasil"
   ]
  },
  {
   "cell_type": "code",
   "execution_count": 47,
   "metadata": {},
   "outputs": [
    {
     "data": {
      "text/plain": [
       "1"
      ]
     },
     "execution_count": 47,
     "metadata": {},
     "output_type": "execute_result"
    }
   ],
   "source": [
    "Hitung = pangkat()\n",
    "Hitung"
   ]
  },
  {
   "cell_type": "code",
   "execution_count": 61,
   "metadata": {},
   "outputs": [],
   "source": [
    "def data_suhu(kota,nilai,temp='Celcius'):\n",
    "    print(f'Di Kota {kota} memiliki suhu {nilai} derajat {temp}')"
   ]
  },
  {
   "cell_type": "code",
   "execution_count": 65,
   "metadata": {},
   "outputs": [
    {
     "name": "stdout",
     "output_type": "stream",
     "text": [
      "Di Kota Parepare memiliki suhu 32 derajat Farenheit\n"
     ]
    }
   ],
   "source": [
    "data_suhu(nilai=32,kota='Parepare',temp='Farenheit')\n"
   ]
  },
  {
   "cell_type": "code",
   "execution_count": 48,
   "metadata": {},
   "outputs": [],
   "source": [
    "# *Argumen\n",
    "def fun_args(*tup):\n",
    "    for i in tup:\n",
    "        print(i)"
   ]
  },
  {
   "cell_type": "code",
   "execution_count": 66,
   "metadata": {},
   "outputs": [
    {
     "name": "stdout",
     "output_type": "stream",
     "text": [
      "Nama Lengkap\n",
      "2023\n",
      "True\n",
      "18\n"
     ]
    }
   ],
   "source": [
    "fun_args('Nama Lengkap',\n",
    "         2023,\n",
    "         True,\n",
    "         18)"
   ]
  },
  {
   "cell_type": "code",
   "execution_count": 51,
   "metadata": {},
   "outputs": [],
   "source": [
    "# KeyWord argumen\n",
    "def kwargs(**data):\n",
    "    for key, value in data.items():\n",
    "        print(key, \":\", value)"
   ]
  },
  {
   "cell_type": "code",
   "execution_count": 52,
   "metadata": {},
   "outputs": [
    {
     "name": "stdout",
     "output_type": "stream",
     "text": [
      "nama : Nama Lengkap\n",
      "NIM : 60022010\n",
      "alamat : Jl. Balaikota\n",
      "angkatan : 2023\n"
     ]
    }
   ],
   "source": [
    "kwargs(nama='Nama Lengkap',\n",
    "       NIM = '60022010',\n",
    "       alamat = 'Jl. Balaikota',\n",
    "       angkatan = 2023)"
   ]
  },
  {
   "cell_type": "code",
   "execution_count": 74,
   "metadata": {},
   "outputs": [],
   "source": [
    "def tampilkan(batas,i=1):\n",
    "    if i<batas:\n",
    "        tampilkan(batas,i+1)\n",
    "    print(f'Perulangan ke-{i}')\n"
   ]
  },
  {
   "cell_type": "code",
   "execution_count": 75,
   "metadata": {},
   "outputs": [
    {
     "name": "stdout",
     "output_type": "stream",
     "text": [
      "Perulangan ke-10\n",
      "Perulangan ke-9\n",
      "Perulangan ke-8\n",
      "Perulangan ke-7\n",
      "Perulangan ke-6\n",
      "Perulangan ke-5\n",
      "Perulangan ke-4\n",
      "Perulangan ke-3\n",
      "Perulangan ke-2\n",
      "Perulangan ke-1\n"
     ]
    }
   ],
   "source": [
    "tampilkan(10)"
   ]
  },
  {
   "cell_type": "code",
   "execution_count": null,
   "metadata": {},
   "outputs": [],
   "source": []
  }
 ],
 "metadata": {
  "kernelspec": {
   "display_name": "Python 3",
   "language": "python",
   "name": "python3"
  },
  "language_info": {
   "codemirror_mode": {
    "name": "ipython",
    "version": 3
   },
   "file_extension": ".py",
   "mimetype": "text/x-python",
   "name": "python",
   "nbconvert_exporter": "python",
   "pygments_lexer": "ipython3",
   "version": "3.9.6"
  }
 },
 "nbformat": 4,
 "nbformat_minor": 2
}
